{
 "cells": [
  {
   "cell_type": "markdown",
   "id": "0e8ddd2f-3dbf-417c-ab72-4b55a23158b7",
   "metadata": {},
   "source": [
    "# Assignation taxonomique utilisant Bash"
   ]
  },
  {
   "cell_type": "markdown",
   "id": "0b9a9c16-5eb6-4c01-b1df-af2c91fd4074",
   "metadata": {},
   "source": [
    "Ce notebook comprend les étapes d'assignation taxonomique utilisant du code *bash*. Il intervient :\n",
    "- à la partie 4)B), avant la visualisation des résultats VSEARCH\n",
    "- à la partie 4)C)2), après préparation de l'arbre de référence"
   ]
  },
  {
   "cell_type": "markdown",
   "id": "ac5a9023-95c6-4e80-9cb5-3e11c59e7460",
   "metadata": {
    "tags": []
   },
   "source": [
    "## 1 - Assignation taxonomique VSEARCH"
   ]
  },
  {
   "cell_type": "markdown",
   "id": "442f3d77-cb63-40ac-8c34-15b1fb991ac3",
   "metadata": {},
   "source": [
    "Script et fichiers inputs issus de [metabarcoding_utils](https://gitlab.com/metabarcoding_utils) \\\n",
    "Avant de lancer le script, les fichiers inputs doivent être chargés sur l'espace de travail (`Input/nextflow`):"
   ]
  },
  {
   "cell_type": "markdown",
   "id": "2bdcb4d4-f4b1-4cde-8606-99b58565b632",
   "metadata": {},
   "source": [
    "### A) Pour importation base de données de référence (PR2)\n",
    "- [lien vers abims.config](https://gitlab.com/metabarcoding_utils/metab-refdb-importer/-/blob/main/conf_templates/abims.config?ref_type=heads)\n",
    "- [lien vers parameters.yaml](https://gitlab.com/metabarcoding_utils/metab-refdb-importer/-/blob/main/param_templates/pr2_params.yaml?ref_type=heads) \\\n",
    "**/!\\ Ouvrir le fichier `parameters.yaml` et préciser où l'on souhaite stocker les données de la base de référence via le paramètre \"outdir: 'Output/nextflow'**"
   ]
  },
  {
   "cell_type": "markdown",
   "id": "ab5da925-829e-49a5-bd38-c46d2a68b42c",
   "metadata": {},
   "source": [
    "Parmis les différents fichiers importés, deux vont être utilisés par la suite :\n",
    "- séquences de référence : `pr2_version_5.0.0_SSU_TAReuk454FWD1_TAReukREV3.fasta.gz`\n",
    "- taxonomie de référence : `pr2_version_5.0.0_SSU_taxo.tsv`"
   ]
  },
  {
   "cell_type": "markdown",
   "id": "6db1c04f-0590-47ba-a807-3a6014b04b50",
   "metadata": {},
   "source": [
    "### B) Pour assignation taxonomique\n",
    "- [lien vers abims.config_assign](https://gitlab.com/metabarcoding_utils/taxonomic-assignment/-/blob/main/conf_templates/abims.config?ref_type=heads)\n",
    "- parameters_assign.yaml : exemple dans [README.md](https://gitlab.com/metabarcoding_utils/taxonomic-assignment/-/blob/main/README.md?ref_type=heads), paragraphe \"Generic usage\" \\\n",
    "**/!\\ Ouvrir `parameters_assign.yaml` et préciser les cheminements vers les fichiers input (séquences query, séquences de référence, taxonomie de référence) \\\n",
    "Séquence query : fichier `ASV_crasp.fasta` (dossier **`Output`**)**"
   ]
  },
  {
   "cell_type": "markdown",
   "id": "ff09cbcf-dafb-403d-82af-e996a48e5641",
   "metadata": {},
   "source": [
    "Paramètres supplémentaires (à la suite, toujours dans `parameters_assign.yaml`) :\n",
    "- best_hit_only: true \\\n",
    "_ne garde que la séquence de référence présentant le plus fort pourcentage de similarité à la séquence query_\n",
    "- outdir: output directory \\\n",
    "_préciser le dossier où l'on souhaite stocker les résultats de l'assignation taxonomique_\n",
    "- vsearch_query_cov: 0.97 \\\n",
    "_remplace le default (=1), avec lequel l'une des séquence de Craspedida n'apparaît pas dans les résultats d'assignation (car \"query_cov\" de la séquence de référence associée légèrement inférieur à 100%)_"
   ]
  },
  {
   "cell_type": "markdown",
   "id": "9d87171b-99f4-404b-b6d3-94245cf84eb4",
   "metadata": {},
   "source": [
    "### C) Script"
   ]
  },
  {
   "cell_type": "code",
   "execution_count": 4,
   "id": "4637b503-733e-45b3-ac59-4c67bfe65d72",
   "metadata": {},
   "outputs": [
    {
     "name": "stdout",
     "output_type": "stream",
     "text": [
      "ERROR ~ .nextflow/history.lock (Permission denied)\n",
      "\n",
      " -- Check '.nextflow.log' file for details\n",
      "ERROR ~ .nextflow/history.lock (Permission denied)\n",
      "\n",
      " -- Check '.nextflow.log' file for details\n"
     ]
    },
    {
     "ename": "",
     "evalue": "1",
     "output_type": "error",
     "traceback": []
    }
   ],
   "source": [
    "module load nextflow/23.04.1\n",
    "\n",
    "nextflow \\\n",
    "  run https://gitlab.com/metabarcoding_utils/metab-refdb-importer \\\n",
    "  -r main \\\n",
    "  -c Input/nextflow/abims.config \\\n",
    "  -params-file Input/nextflow/parameters.yaml\n",
    "  \n",
    "nextflow \\\n",
    "  run https://gitlab.com/metabarcoding_utils/taxonomic-assignment \\\n",
    "  -r main \\\n",
    "  -c Input/nextflow/abims.config_assign \\\n",
    "  -params-file Input/nextflow/parameters_assign.yaml"
   ]
  },
  {
   "cell_type": "markdown",
   "id": "67dd14c7-e6a7-480b-9a5e-26ae213c1b58",
   "metadata": {
    "tags": []
   },
   "source": [
    "## 2 - Placement phylogénétique EPA-ng"
   ]
  },
  {
   "cell_type": "markdown",
   "id": "b0dc0481-26eb-40e7-8e2d-932228c0082d",
   "metadata": {},
   "source": [
    "### A) Préparation de l'environnement de travail"
   ]
  },
  {
   "cell_type": "markdown",
   "id": "520a9844-71da-4242-97e8-c41fcc4f3466",
   "metadata": {},
   "source": [
    "Avant de lancer les analyses, il faut installer les modules suivant :\n",
    "- [gotree](https://anaconda.org/bioconda/gotree),\n",
    "- [mafft](https://anaconda.org/bioconda/mafft),\n",
    "- [epa-ng](https://anaconda.org/bioconda/epa-ng),\n",
    "- [raxml-ng](https://anaconda.org/bioconda/raxml-ng)"
   ]
  },
  {
   "cell_type": "markdown",
   "id": "87ee163f-0a35-41a0-ab88-38d2fe21db47",
   "metadata": {},
   "source": [
    "Une fois installés, il faut les importer dans l'environnement de travail :"
   ]
  },
  {
   "cell_type": "code",
   "execution_count": 5,
   "id": "1c818e22-90a3-428c-b275-e51777637d47",
   "metadata": {},
   "outputs": [],
   "source": [
    "module load epa-ng\n",
    "module load mafft\n",
    "module load raxml-ng"
   ]
  },
  {
   "cell_type": "markdown",
   "id": "42a04a9c-9a1a-4d0b-abd6-d5aabf8622ce",
   "metadata": {},
   "source": [
    "### B) Alignement des séquences"
   ]
  },
  {
   "cell_type": "markdown",
   "id": "d2390747-399d-4fe9-876a-adf3afafafd5",
   "metadata": {},
   "source": [
    "Nous utilisons **mafft** et le commande **-add** pour aligner nos séquences (Craspedida ASVs : `Output/ASV_crasp.fasta`) avec celles utilisées pour créer l'arbre phylogénétique de référence (`Input/18S_EFL_HSP90.concatenated.fasta`)."
   ]
  },
  {
   "cell_type": "code",
   "execution_count": 6,
   "id": "a3b71eaf-a7df-4834-aec7-ca7a300c2604",
   "metadata": {},
   "outputs": [
    {
     "name": "stdout",
     "output_type": "stream",
     "text": [
      "nadd = 10\n",
      "nthread = 0\n",
      "nthreadpair = 0\n",
      "nthreadtb = 0\n",
      "ppenalty_ex = 0\n",
      "stacksize: 8192 kb\n",
      "generating a scoring matrix for nucleotide (dist=200) ... done\n",
      "Gap Penalty = -1.53, +0.00, +0.00\n",
      "\n",
      "\n",
      "\n",
      "Making a distance matrix ..\n",
      "\n",
      "There are 15 ambiguous characters.\n",
      "    1 / 45\n",
      "done.\n",
      "\n",
      "Constructing a UPGMA tree (efffree=0) ... \n",
      "   40 / 45\n",
      "done.\n",
      "\n",
      "Progressive alignment 1/2... \n",
      "STEP    14 / 44 \n",
      "done.\n",
      "\n",
      "Making a distance matrix from msa.. \n",
      "    0 / 45\n",
      "done.\n",
      "\n",
      "Constructing a UPGMA tree (efffree=1) ... \n",
      "   40 / 45\n",
      "done.\n",
      "\n",
      "Progressive alignment 2/2... \n",
      "STEP    17 / 44 \n",
      "done.\n",
      "\n",
      "disttbfast (nuc) Version 7.515\n",
      "alg=A, model=DNA200 (2), 1.53 (4.59), -0.00 (-0.00), noshift, amax=0.0\n",
      "0 thread(s)\n",
      "\n",
      "\n",
      "To keep the alignment length, 9 letters were DELETED.\n",
      "To know the positions of deleted letters, rerun the same command with the --mapout option.\n",
      "\n",
      "Strategy:\n",
      " FFT-NS-2 (Fast but rough)\n",
      " Progressive method (guide trees were built 2 times.)\n",
      "\n",
      "If unsure which option to use, try 'mafft --auto input > output'.\n",
      "For more information, see 'mafft --help', 'mafft --man' and the mafft page.\n",
      "\n",
      "The default gap scoring scheme has been changed in version 7.110 (2013 Oct).\n",
      "It tends to insert more gaps into gap-rich regions than previous versions.\n",
      "To disable this change, add the --leavegappyregion option.\n",
      "\n"
     ]
    }
   ],
   "source": [
    " mafft \\\n",
    "  --add Output/ASV_crasp.fasta \\\n",
    "  --keeplength Input/18S_EFL_HSP90.concatenated.fasta \\\n",
    "  > Output/all_aligned.fasta"
   ]
  },
  {
   "cell_type": "markdown",
   "id": "f21e5182-a0ca-4a41-8a00-66ea7f7aba90",
   "metadata": {},
   "source": [
    "Suite à la sortie de la fonction précédente, nous avons créé un ficher `all_alligned.fasta` qui contient les alignements de nos séquences requêtes et des séquences de référence. Nous voulons les séparer en 2 fichiers différents en utilisant **eap-ng** et la commande **--split**. Nous aurons en sortie 2 fichiers `query.fasta` (alignement de no séquences requête) et `reference.fasta` (alignement des séquences de référence)."
   ]
  },
  {
   "cell_type": "code",
   "execution_count": 7,
   "id": "feb91ff5-d44d-434f-ac11-4669ae82dbe4",
   "metadata": {},
   "outputs": [
    {
     "name": "stdout",
     "output_type": "stream",
     "text": [
      "INFO Splitting files based on reference: Input/18S_EFL_HSP90.concatenated.fasta\n"
     ]
    }
   ],
   "source": [
    "epa-ng \\\n",
    "  --split Input/18S_EFL_HSP90.concatenated.fasta \\\n",
    "  Output/all_aligned.fasta \\\n",
    "  --outdir Output/ \\\n",
    "  --redo"
   ]
  },
  {
   "cell_type": "markdown",
   "id": "87990fb3-862b-4c20-bff1-0bfa18504ca7",
   "metadata": {},
   "source": [
    "Nous cherchons d'abors à choisir le modèle d'évolution que nous allons utiliser pour le placement. Pour cela, nous évaluons le meillleur modèle à partir de l'arbre et des alignements de référence en utilisant **raxml-ng**."
   ]
  },
  {
   "cell_type": "code",
   "execution_count": 8,
   "id": "aa455ed6-a367-4f13-8efe-ddcebc7ea5c6",
   "metadata": {},
   "outputs": [
    {
     "name": "stdout",
     "output_type": "stream",
     "text": [
      "\n",
      "RAxML-NG v. 1.1 released on 29.11.2021 by The Exelixis Lab.\n",
      "Developed by: Alexey M. Kozlov and Alexandros Stamatakis.\n",
      "Contributors: Diego Darriba, Tomas Flouri, Benoit Morel, Sarah Lutteropp, Ben Bettisworth.\n",
      "Latest version: https://github.com/amkozlov/raxml-ng\n",
      "Questions/problems/suggestions? Please visit: https://groups.google.com/forum/#!forum/raxml\n",
      "\n",
      "System: Intel(R) Xeon(R) Gold 5320 CPU @ 2.20GHz, 52 cores, 1007 GB RAM\n",
      "\n",
      "RAxML-NG was called at 09-Dec-2024 22:44:59 as follows:\n",
      "\n",
      "raxml-ng --evaluate --msa Input/18S_EFL_HSP90.concatenated.fasta --tree Output/Ref_tree.nwk --prefix Output/info --model GTR+G+F --redo\n",
      "\n",
      "Analysis options:\n",
      "  run mode: Evaluate tree likelihood\n",
      "  start tree(s): user\n",
      "  random seed: 1733780699\n",
      "  tip-inner: OFF\n",
      "  pattern compression: ON\n",
      "  per-rate scalers: OFF\n",
      "  site repeats: ON\n",
      "  branch lengths: proportional (ML estimate, algorithm: NR-FAST)\n",
      "  SIMD kernels: AVX2\n",
      "  parallelization: coarse-grained (auto), PTHREADS (auto)\n",
      "\n",
      "WARNING: Running in REDO mode: existing checkpoints are ignored, and all result files will be overwritten!\n",
      "\n",
      "[00:00:00] Reading alignment from file: Input/18S_EFL_HSP90.concatenated.fasta\n",
      "[00:00:00] Loaded alignment with 35 taxa and 5397 sites\n",
      "\n",
      "Alignment comprises 1 partitions and 3189 patterns\n",
      "\n",
      "Partition 0: noname\n",
      "Model: GTR+FC+G4m\n",
      "Alignment sites / patterns: 5397 / 3189\n",
      "Gaps: 25.03 %\n",
      "Invariant sites: 42.23 %\n",
      "\n",
      "\n",
      "NOTE: Binary MSA file created: Output/info.raxml.rba\n",
      "\n",
      "Parallelization scheme autoconfig: 1 worker(s) x 8 thread(s)\n",
      "\n",
      "Parallel reduction/worker buffer size: 1 KB  / 0 KB\n",
      "\n",
      "[00:00:00] Loading user starting tree(s) from: Output/Ref_tree.nwk\n",
      "[00:00:00] Data distribution: max. partitions/sites/weight per thread: 1 / 399 / 6384\n",
      "[00:00:00] Data distribution: max. searches per worker: 1\n",
      "\n",
      "Evaluating 1 trees\n",
      "\n",
      "[00:00:00] Tree #1, initial LogLikelihood: -69535.533987\n",
      "\n",
      "[00:00:00 -69535.533987] Initial branch length optimization\n",
      "[00:00:20 -69447.167104] Model parameter optimization (eps = 0.100000)\n",
      "\n",
      "[00:01:54] Tree #1, final logLikelihood: -67327.136702\n",
      "\n",
      "\n",
      "Optimized model parameters:\n",
      "\n",
      "   Partition 0: noname\n",
      "   Rate heterogeneity: GAMMA (4 cats, mean),  alpha: 0.390902 (ML),  weights&rates: (0.250000,0.015424) (0.250000,0.174927) (0.250000,0.721244) (0.250000,3.088404) \n",
      "   Base frequencies (empirical): 0.260938 0.241236 0.267661 0.230164 \n",
      "   Substitution rates (ML): 1.516181 2.563439 1.211177 2.025441 4.728873 1.000000 \n",
      "\n",
      "\n",
      "Final LogLikelihood: -67327.136702\n",
      "\n",
      "AIC score: 134806.273404 / AICc score: 134808.473404 / BIC score: 135307.386892\n",
      "Free parameters (model + branch lengths): 76\n",
      "\n",
      "Best ML tree saved to: /shared/projects/sorbonne_master_ue_projet/Choanoflagellates/Output/info.raxml.bestTree\n",
      "Optimized model saved to: /shared/projects/sorbonne_master_ue_projet/Choanoflagellates/Output/info.raxml.bestModel\n",
      "\n",
      "Execution log saved to: /shared/projects/sorbonne_master_ue_projet/Choanoflagellates/Output/info.raxml.log\n",
      "\n",
      "Analysis started: 09-Dec-2024 22:44:59 / finished: 09-Dec-2024 22:46:54\n",
      "\n",
      "Elapsed time: 114.979 seconds\n",
      "\n"
     ]
    }
   ],
   "source": [
    "raxml-ng \\\n",
    "  --evaluate \\\n",
    "  --msa Input/18S_EFL_HSP90.concatenated.fasta \\\n",
    "  --tree Output/Ref_tree.nwk \\\n",
    "  --prefix Output/info \\\n",
    "  --model GTR+G+F \\\n",
    "  --redo"
   ]
  },
  {
   "cell_type": "markdown",
   "id": "ca1a6799-4b6b-4238-97c2-0595952a2554",
   "metadata": {},
   "source": [
    "### C) Placement "
   ]
  },
  {
   "cell_type": "markdown",
   "id": "c9640bfc-f5e1-4f66-9d06-acb792d65a03",
   "metadata": {},
   "source": [
    "Nous avons désormais tous les éléments pour faire le placement avec **epa-ng** :"
   ]
  },
  {
   "cell_type": "code",
   "execution_count": 9,
   "id": "e46fd65d-826e-42e5-a58a-dfa3be29b8e7",
   "metadata": {},
   "outputs": [
    {
     "name": "stdout",
     "output_type": "stream",
     "text": [
      "INFO Selected: Output dir: Output/\n",
      "INFO Selected: Query file: Output/query.fasta\n",
      "INFO Selected: Tree file: Output/Ref_tree.nwk\n",
      "INFO Selected: Reference MSA: Input/18S_EFL_HSP90.concatenated.fasta\n",
      "INFO Selected: Automatic switching of use of per rate scalers\n",
      "INFO Selected: Preserving the root of the input tree\n",
      "INFO Selected: Specified model file: Output/info.raxml.bestModel\n",
      "INFO     ______ ____   ___           _   __ ______\n",
      "        / ____// __ \\ /   |         / | / // ____/\n",
      "       / __/  / /_/ // /| | ______ /  |/ // / __  \n",
      "      / /___ / ____// ___ |/_____// /|  // /_/ /  \n",
      "     /_____//_/    /_/  |_|      /_/ |_/ \\____/ (v0.3.8)\n",
      "INFO Using model parameters:\n",
      "INFO    Rate heterogeneity: GAMMA (4 cats, mean),  alpha: 0.390902 (user),  weights&rates: (0.25,0.015424) (0.25,0.174928) (0.25,0.721245) (0.25,3.0884) \n",
      "        Base frequencies (empirical): 0.257649 0.169648 0.27156 0.301144 \n",
      "        Substitution rates (user): 1.51618 2.56344 1.21118 2.02544 4.72887 1\n",
      "INFO Output file: Output/epa_result.jplace\n",
      "INFO 10 Sequences done!\n",
      "INFO Time spent placing: 0s\n",
      "INFO Elapsed Time: 0s\n"
     ]
    }
   ],
   "source": [
    "epa-ng \\\n",
    "  --ref-msa Input/18S_EFL_HSP90.concatenated.fasta \\\n",
    "  --tree Output/Ref_tree.nwk \\\n",
    "  --query Output/query.fasta \\\n",
    "  --model Output/info.raxml.bestModel \\\n",
    "  --outdir Output \\\n",
    "  --redo"
   ]
  },
  {
   "cell_type": "markdown",
   "id": "f3f10462-2613-444d-977c-d9a214f7c428",
   "metadata": {},
   "source": [
    "Le placement phylogénétique a été effectué. Pour la visualisation, il faut maintenant continuer dans le notebook `main_notebook-R.ipynb` partie ***4)C)3) Visualisation des placements phylogénétiques***"
   ]
  }
 ],
 "metadata": {
  "kernelspec": {
   "display_name": "Bash",
   "language": "bash",
   "name": "bash"
  },
  "language_info": {
   "codemirror_mode": "shell",
   "file_extension": ".sh",
   "mimetype": "text/x-sh",
   "name": "bash"
  }
 },
 "nbformat": 4,
 "nbformat_minor": 5
}
